{
 "cells": [
  {
   "cell_type": "code",
   "execution_count": 1,
   "metadata": {},
   "outputs": [
    {
     "name": "stderr",
     "output_type": "stream",
     "text": [
      "Using TensorFlow backend.\n"
     ]
    }
   ],
   "source": [
    "import cv2\n",
    "from keras.preprocessing.image import ImageDataGenerator\n",
    "import glob\n",
    "from keras.models import Sequential\n",
    "from keras.layers import Activation, Dropout, Flatten, Dense, Conv2D, MaxPool2D\n",
    "import matplotlib.pyplot as plt\n",
    "import os"
   ]
  },
  {
   "cell_type": "markdown",
   "metadata": {},
   "source": [
    "### Getting first 20 Folder Names"
   ]
  },
  {
   "cell_type": "code",
   "execution_count": 10,
   "metadata": {},
   "outputs": [
    {
     "name": "stdout",
     "output_type": "stream",
     "text": [
      "['001.Black_footed_Albatross', '002.Laysan_Albatross', '003.Sooty_Albatross', '004.Groove_billed_Ani', '005.Crested_Auklet', '006.Least_Auklet', '007.Parakeet_Auklet', '008.Rhinoceros_Auklet', '009.Brewer_Blackbird', '010.Red_winged_Blackbird', '011.Rusty_Blackbird', '012.Yellow_headed_Blackbird', '013.Bobolink', '014.Indigo_Bunting', '015.Lazuli_Bunting', '016.Painted_Bunting', '017.Cardinal', '018.Spotted_Catbird', '019.Gray_Catbird', '020.Yellow_breasted_Chat']\n"
     ]
    }
   ],
   "source": [
    "fldrs = glob.glob('train-images/*')\n",
    "flds = []\n",
    "for i in fldrs[:20]:\n",
    "    flds.append(i.split('\\\\')[1])\n",
    "    \n",
    "print(flds)"
   ]
  },
  {
   "cell_type": "markdown",
   "metadata": {},
   "source": [
    "## Data Cleaning and Preparation\n",
    "* Testing set preparation"
   ]
  },
  {
   "cell_type": "code",
   "execution_count": 7,
   "metadata": {},
   "outputs": [],
   "source": [
    "folders = glob.glob('images/*')"
   ]
  },
  {
   "cell_type": "code",
   "execution_count": null,
   "metadata": {
    "scrolled": false
   },
   "outputs": [],
   "source": [
    "for i in folders: \n",
    "    dir = i.split('\\\\')[1]\n",
    "    parent_dir = \"images\"\n",
    "    path = os.path.join(parent_dir, dir)  \n",
    "    os.mkdir(path) \n",
    "    \n",
    "print(\" %d Directories created\" %len(folders)) "
   ]
  },
  {
   "cell_type": "code",
   "execution_count": null,
   "metadata": {},
   "outputs": [],
   "source": [
    "import random\n",
    "import shutil\n",
    "paths = 'images/'\n",
    "for i in os.listdir(paths):\n",
    "    l = len(os.listdir(paths+i))\n",
    "    rand_paths = random.sample(os.listdir(paths+i), int(l/10))\n",
    "    for j in (rand_paths):\n",
    "        src = 'images/'+i+'/'+j\n",
    "        dest = 'test-images/'+i+'/'+j\n",
    "        print(dest)\n",
    "        shutil.move(src, dest, copy_function = shutil.copytree)\n",
    "    \n"
   ]
  },
  {
   "cell_type": "markdown",
   "metadata": {},
   "source": [
    "## Data Augmentation & Generators generation"
   ]
  },
  {
   "cell_type": "code",
   "execution_count": 82,
   "metadata": {},
   "outputs": [],
   "source": [
    "image_gen = ImageDataGenerator(rotation_range=30,\n",
    "                              width_shift_range=0.2,height_shift_range=0.1,\n",
    "                              rescale=1/255, shear_range=0.2,zoom_range=0.2,horizontal_flip=True,\n",
    "                              fill_mode='nearest')"
   ]
  },
  {
   "cell_type": "code",
   "execution_count": 84,
   "metadata": {},
   "outputs": [
    {
     "name": "stdout",
     "output_type": "stream",
     "text": [
      "Found 10585 images belonging to 199 classes.\n",
      "Found 1137 images belonging to 199 classes.\n"
     ]
    },
    {
     "data": {
      "text/plain": [
       "<keras.preprocessing.image.DirectoryIterator at 0x21ba969d388>"
      ]
     },
     "execution_count": 84,
     "metadata": {},
     "output_type": "execute_result"
    }
   ],
   "source": [
    "image_gen.flow_from_directory('C:\\\\Users\\\\vsneh\\\\Udemy-notebooks\\\\bird-species-detection\\\\train-images')\n",
    "image_gen.flow_from_directory('C:\\\\Users\\\\vsneh\\\\Udemy-notebooks\\\\bird-species-detection\\\\test-images')"
   ]
  },
  {
   "cell_type": "markdown",
   "metadata": {},
   "source": [
    "## Model Designing and Training"
   ]
  },
  {
   "cell_type": "code",
   "execution_count": 103,
   "metadata": {},
   "outputs": [],
   "source": [
    "model = Sequential()\n",
    "\n",
    "model.add(Conv2D(filters=32, kernel_size=(3,3),input_shape=(150,150,3), activation='relu',))\n",
    "model.add(MaxPooling2D(pool_size=(2, 2)))\n",
    "\n",
    "model.add(Conv2D(filters=64, kernel_size=(3,3),input_shape=(150,150,3), activation='relu',))\n",
    "model.add(MaxPooling2D(pool_size=(2, 2)))\n",
    "\n",
    "model.add(Conv2D(filters=64, kernel_size=(3,3),input_shape=(150,150,3), activation='relu',))\n",
    "model.add(MaxPooling2D(pool_size=(2, 2)))\n",
    "\n",
    "\n",
    "model.add(Flatten())\n",
    "\n",
    "\n",
    "model.add(Dense(128))\n",
    "model.add(Activation('relu'))\n",
    "\n",
    "# Dropouts help reduce overfitting by randomly turning neurons off during training.\n",
    "# Here we say randomly turn off 50% of neurons.\n",
    "model.add(Dropout(0.5))\n",
    "\n",
    "# Last layer, remember its binary, 0=cat , 1=dog\n",
    "model.add(Dense(199))\n",
    "model.add(Activation('softmax'))\n",
    "\n",
    "model.compile(loss='categorical_crossentropy',\n",
    "              optimizer='adam',\n",
    "              metrics=['accuracy'])\n",
    "\n",
    "image_shape = (150,150,3)"
   ]
  },
  {
   "cell_type": "code",
   "execution_count": 104,
   "metadata": {},
   "outputs": [
    {
     "name": "stdout",
     "output_type": "stream",
     "text": [
      "Model: \"sequential_5\"\n",
      "_________________________________________________________________\n",
      "Layer (type)                 Output Shape              Param #   \n",
      "=================================================================\n",
      "conv2d_13 (Conv2D)           (None, 148, 148, 32)      896       \n",
      "_________________________________________________________________\n",
      "max_pooling2d_13 (MaxPooling (None, 74, 74, 32)        0         \n",
      "_________________________________________________________________\n",
      "conv2d_14 (Conv2D)           (None, 72, 72, 64)        18496     \n",
      "_________________________________________________________________\n",
      "max_pooling2d_14 (MaxPooling (None, 36, 36, 64)        0         \n",
      "_________________________________________________________________\n",
      "conv2d_15 (Conv2D)           (None, 34, 34, 64)        36928     \n",
      "_________________________________________________________________\n",
      "max_pooling2d_15 (MaxPooling (None, 17, 17, 64)        0         \n",
      "_________________________________________________________________\n",
      "flatten_5 (Flatten)          (None, 18496)             0         \n",
      "_________________________________________________________________\n",
      "dense_9 (Dense)              (None, 128)               2367616   \n",
      "_________________________________________________________________\n",
      "activation_9 (Activation)    (None, 128)               0         \n",
      "_________________________________________________________________\n",
      "dropout_5 (Dropout)          (None, 128)               0         \n",
      "_________________________________________________________________\n",
      "dense_10 (Dense)             (None, 199)               25671     \n",
      "_________________________________________________________________\n",
      "activation_10 (Activation)   (None, 199)               0         \n",
      "=================================================================\n",
      "Total params: 2,449,607\n",
      "Trainable params: 2,449,607\n",
      "Non-trainable params: 0\n",
      "_________________________________________________________________\n"
     ]
    }
   ],
   "source": [
    "model.summary()"
   ]
  },
  {
   "cell_type": "code",
   "execution_count": 95,
   "metadata": {},
   "outputs": [
    {
     "name": "stdout",
     "output_type": "stream",
     "text": [
      "Found 10585 images belonging to 199 classes.\n",
      "Found 1137 images belonging to 199 classes.\n"
     ]
    }
   ],
   "source": [
    "batch_size = 16\n",
    "\n",
    "train_image_gen = image_gen.flow_from_directory('./train-images',\n",
    "                                               target_size=image_shape[:2],\n",
    "                                               batch_size=batch_size,\n",
    "                                               class_mode='categorical')\n",
    "test_image_gen = image_gen.flow_from_directory('./test-images',\n",
    "                                               target_size=image_shape[:2],\n",
    "                                               batch_size=batch_size,\n",
    "                                               class_mode='categorical')"
   ]
  },
  {
   "cell_type": "code",
   "execution_count": 96,
   "metadata": {},
   "outputs": [
    {
     "data": {
      "text/plain": [
       "{'001.Black_footed_Albatross': 0,\n",
       " '002.Laysan_Albatross': 1,\n",
       " '003.Sooty_Albatross': 2,\n",
       " '004.Groove_billed_Ani': 3,\n",
       " '005.Crested_Auklet': 4,\n",
       " '006.Least_Auklet': 5,\n",
       " '007.Parakeet_Auklet': 6,\n",
       " '008.Rhinoceros_Auklet': 7,\n",
       " '009.Brewer_Blackbird': 8,\n",
       " '010.Red_winged_Blackbird': 9,\n",
       " '011.Rusty_Blackbird': 10,\n",
       " '012.Yellow_headed_Blackbird': 11,\n",
       " '013.Bobolink': 12,\n",
       " '014.Indigo_Bunting': 13,\n",
       " '015.Lazuli_Bunting': 14,\n",
       " '016.Painted_Bunting': 15,\n",
       " '017.Cardinal': 16,\n",
       " '018.Spotted_Catbird': 17,\n",
       " '019.Gray_Catbird': 18,\n",
       " '020.Yellow_breasted_Chat': 19,\n",
       " '021.Eastern_Towhee': 20,\n",
       " '022.Chuck_will_Widow': 21,\n",
       " '023.Brandt_Cormorant': 22,\n",
       " '024.Red_faced_Cormorant': 23,\n",
       " '025.Pelagic_Cormorant': 24,\n",
       " '026.Bronzed_Cowbird': 25,\n",
       " '027.Shiny_Cowbird': 26,\n",
       " '028.Brown_Creeper': 27,\n",
       " '029.American_Crow': 28,\n",
       " '030.Fish_Crow': 29,\n",
       " '031.Black_billed_Cuckoo': 30,\n",
       " '032.Mangrove_Cuckoo': 31,\n",
       " '033.Yellow_billed_Cuckoo': 32,\n",
       " '034.Gray_crowned_Rosy_Finch': 33,\n",
       " '035.Purple_Finch': 34,\n",
       " '036.Northern_Flicker': 35,\n",
       " '037.Acadian_Flycatcher': 36,\n",
       " '038.Great_Crested_Flycatcher': 37,\n",
       " '039.Least_Flycatcher': 38,\n",
       " '040.Olive_sided_Flycatcher': 39,\n",
       " '041.Scissor_tailed_Flycatcher': 40,\n",
       " '042.Vermilion_Flycatcher': 41,\n",
       " '043.Yellow_bellied_Flycatcher': 42,\n",
       " '044.Frigatebird': 43,\n",
       " '045.Northern_Fulmar': 44,\n",
       " '046.Gadwall': 45,\n",
       " '047.American_Goldfinch': 46,\n",
       " '048.European_Goldfinch': 47,\n",
       " '049.Boat_tailed_Grackle': 48,\n",
       " '050.Eared_Grebe': 49,\n",
       " '051.Horned_Grebe': 50,\n",
       " '052.Pied_billed_Grebe': 51,\n",
       " '053.Western_Grebe': 52,\n",
       " '054.Blue_Grosbeak': 53,\n",
       " '055.Evening_Grosbeak': 54,\n",
       " '056.Pine_Grosbeak': 55,\n",
       " '057.Rose_breasted_Grosbeak': 56,\n",
       " '058.Pigeon_Guillemot': 57,\n",
       " '059.California_Gull': 58,\n",
       " '060.Glaucous_winged_Gull': 59,\n",
       " '061.Heermann_Gull': 60,\n",
       " '062.Herring_Gull': 61,\n",
       " '063.Ivory_Gull': 62,\n",
       " '064.Ring_billed_Gull': 63,\n",
       " '065.Slaty_backed_Gull': 64,\n",
       " '066.Western_Gull': 65,\n",
       " '067.Anna_Hummingbird': 66,\n",
       " '069.Rufous_Hummingbird': 67,\n",
       " '070.Green_Violetear': 68,\n",
       " '071.Long_tailed_Jaeger': 69,\n",
       " '072.Pomarine_Jaeger': 70,\n",
       " '073.Blue_Jay': 71,\n",
       " '074.Florida_Jay': 72,\n",
       " '075.Green_Jay': 73,\n",
       " '076.Dark_eyed_Junco': 74,\n",
       " '077.Tropical_Kingbird': 75,\n",
       " '078.Gray_Kingbird': 76,\n",
       " '079.Belted_Kingfisher': 77,\n",
       " '080.Green_Kingfisher': 78,\n",
       " '081.Pied_Kingfisher': 79,\n",
       " '082.Ringed_Kingfisher': 80,\n",
       " '083.White_breasted_Kingfisher': 81,\n",
       " '084.Red_legged_Kittiwake': 82,\n",
       " '085.Horned_Lark': 83,\n",
       " '086.Pacific_Loon': 84,\n",
       " '087.Mallard': 85,\n",
       " '088.Western_Meadowlark': 86,\n",
       " '089.Hooded_Merganser': 87,\n",
       " '090.Red_breasted_Merganser': 88,\n",
       " '091.Mockingbird': 89,\n",
       " '092.Nighthawk': 90,\n",
       " '093.Clark_Nutcracker': 91,\n",
       " '094.White_breasted_Nuthatch': 92,\n",
       " '095.Baltimore_Oriole': 93,\n",
       " '096.Hooded_Oriole': 94,\n",
       " '097.Orchard_Oriole': 95,\n",
       " '098.Scott_Oriole': 96,\n",
       " '099.Ovenbird': 97,\n",
       " '100.Brown_Pelican': 98,\n",
       " '101.White_Pelican': 99,\n",
       " '102.Western_Wood_Pewee': 100,\n",
       " '103.Sayornis': 101,\n",
       " '104.American_Pipit': 102,\n",
       " '105.Whip_poor_Will': 103,\n",
       " '106.Horned_Puffin': 104,\n",
       " '107.Common_Raven': 105,\n",
       " '108.White_necked_Raven': 106,\n",
       " '109.American_Redstart': 107,\n",
       " '110.Geococcyx': 108,\n",
       " '111.Loggerhead_Shrike': 109,\n",
       " '112.Great_Grey_Shrike': 110,\n",
       " '113.Baird_Sparrow': 111,\n",
       " '114.Black_throated_Sparrow': 112,\n",
       " '115.Brewer_Sparrow': 113,\n",
       " '116.Chipping_Sparrow': 114,\n",
       " '117.Clay_colored_Sparrow': 115,\n",
       " '118.House_Sparrow': 116,\n",
       " '119.Field_Sparrow': 117,\n",
       " '120.Fox_Sparrow': 118,\n",
       " '121.Grasshopper_Sparrow': 119,\n",
       " '122.Harris_Sparrow': 120,\n",
       " '123.Henslow_Sparrow': 121,\n",
       " '124.Le_Conte_Sparrow': 122,\n",
       " '125.Lincoln_Sparrow': 123,\n",
       " '126.Nelson_Sharp_tailed_Sparrow': 124,\n",
       " '127.Savannah_Sparrow': 125,\n",
       " '128.Seaside_Sparrow': 126,\n",
       " '129.Song_Sparrow': 127,\n",
       " '130.Tree_Sparrow': 128,\n",
       " '131.Vesper_Sparrow': 129,\n",
       " '132.White_crowned_Sparrow': 130,\n",
       " '133.White_throated_Sparrow': 131,\n",
       " '134.Cape_Glossy_Starling': 132,\n",
       " '135.Bank_Swallow': 133,\n",
       " '136.Barn_Swallow': 134,\n",
       " '137.Cliff_Swallow': 135,\n",
       " '138.Tree_Swallow': 136,\n",
       " '139.Scarlet_Tanager': 137,\n",
       " '140.Summer_Tanager': 138,\n",
       " '141.Artic_Tern': 139,\n",
       " '142.Black_Tern': 140,\n",
       " '143.Caspian_Tern': 141,\n",
       " '144.Common_Tern': 142,\n",
       " '145.Elegant_Tern': 143,\n",
       " '146.Forsters_Tern': 144,\n",
       " '147.Least_Tern': 145,\n",
       " '148.Green_tailed_Towhee': 146,\n",
       " '149.Brown_Thrasher': 147,\n",
       " '150.Sage_Thrasher': 148,\n",
       " '151.Black_capped_Vireo': 149,\n",
       " '152.Blue_headed_Vireo': 150,\n",
       " '153.Philadelphia_Vireo': 151,\n",
       " '154.Red_eyed_Vireo': 152,\n",
       " '155.Warbling_Vireo': 153,\n",
       " '156.White_eyed_Vireo': 154,\n",
       " '157.Yellow_throated_Vireo': 155,\n",
       " '158.Bay_breasted_Warbler': 156,\n",
       " '159.Black_and_white_Warbler': 157,\n",
       " '160.Black_throated_Blue_Warbler': 158,\n",
       " '161.Blue_winged_Warbler': 159,\n",
       " '162.Canada_Warbler': 160,\n",
       " '163.Cape_May_Warbler': 161,\n",
       " '164.Cerulean_Warbler': 162,\n",
       " '165.Chestnut_sided_Warbler': 163,\n",
       " '166.Golden_winged_Warbler': 164,\n",
       " '167.Hooded_Warbler': 165,\n",
       " '168.Kentucky_Warbler': 166,\n",
       " '169.Magnolia_Warbler': 167,\n",
       " '170.Mourning_Warbler': 168,\n",
       " '171.Myrtle_Warbler': 169,\n",
       " '172.Nashville_Warbler': 170,\n",
       " '173.Orange_crowned_Warbler': 171,\n",
       " '174.Palm_Warbler': 172,\n",
       " '175.Pine_Warbler': 173,\n",
       " '176.Prairie_Warbler': 174,\n",
       " '177.Prothonotary_Warbler': 175,\n",
       " '178.Swainson_Warbler': 176,\n",
       " '179.Tennessee_Warbler': 177,\n",
       " '180.Wilson_Warbler': 178,\n",
       " '181.Worm_eating_Warbler': 179,\n",
       " '182.Yellow_Warbler': 180,\n",
       " '183.Northern_Waterthrush': 181,\n",
       " '184.Louisiana_Waterthrush': 182,\n",
       " '185.Bohemian_Waxwing': 183,\n",
       " '186.Cedar_Waxwing': 184,\n",
       " '187.American_Three_toed_Woodpecker': 185,\n",
       " '188.Pileated_Woodpecker': 186,\n",
       " '189.Red_bellied_Woodpecker': 187,\n",
       " '190.Red_cockaded_Woodpecker': 188,\n",
       " '191.Red_headed_Woodpecker': 189,\n",
       " '192.Downy_Woodpecker': 190,\n",
       " '193.Bewick_Wren': 191,\n",
       " '194.Cactus_Wren': 192,\n",
       " '195.Carolina_Wren': 193,\n",
       " '196.House_Wren': 194,\n",
       " '197.Marsh_Wren': 195,\n",
       " '198.Rock_Wren': 196,\n",
       " '199.Winter_Wren': 197,\n",
       " '200.Common_Yellowthroat': 198}"
      ]
     },
     "execution_count": 96,
     "metadata": {},
     "output_type": "execute_result"
    }
   ],
   "source": [
    "train_image_gen.class_indices"
   ]
  },
  {
   "cell_type": "code",
   "execution_count": 97,
   "metadata": {},
   "outputs": [],
   "source": [
    "import warnings\n",
    "import PIL.Image\n",
    "warnings.filterwarnings('ignore')"
   ]
  },
  {
   "cell_type": "code",
   "execution_count": 109,
   "metadata": {},
   "outputs": [
    {
     "name": "stdout",
     "output_type": "stream",
     "text": [
      "Epoch 1/15\n",
      "661/661 [==============================] - 220s 333ms/step - loss: 5.2946 - accuracy: 0.0039 - val_loss: 5.2904 - val_accuracy: 0.0053\n",
      "Epoch 2/15\n",
      "661/661 [==============================] - 219s 331ms/step - loss: 5.2941 - accuracy: 0.0031 - val_loss: 5.2984 - val_accuracy: 0.0054\n",
      "Epoch 3/15\n",
      "661/661 [==============================] - 220s 333ms/step - loss: 5.2940 - accuracy: 0.0029 - val_loss: 5.2926 - val_accuracy: 0.0054\n",
      "Epoch 4/15\n",
      "661/661 [==============================] - 1249s 2s/step - loss: 5.2940 - accuracy: 0.0039 - val_loss: 5.2882 - val_accuracy: 0.0054\n",
      "Epoch 5/15\n",
      "661/661 [==============================] - 223s 337ms/step - loss: 5.2938 - accuracy: 0.0031 - val_loss: 5.2938 - val_accuracy: 0.0054\n",
      "Epoch 6/15\n",
      "661/661 [==============================] - 222s 336ms/step - loss: 5.2938 - accuracy: 0.0029 - val_loss: 5.2840 - val_accuracy: 0.0054\n",
      "Epoch 7/15\n",
      "661/661 [==============================] - 222s 336ms/step - loss: 5.2937 - accuracy: 0.0030 - val_loss: 5.2999 - val_accuracy: 0.0054\n",
      "Epoch 8/15\n",
      "661/661 [==============================] - 220s 333ms/step - loss: 5.2936 - accuracy: 0.0027 - val_loss: 5.2833 - val_accuracy: 0.0045\n",
      "Epoch 9/15\n",
      "661/661 [==============================] - 222s 335ms/step - loss: 5.2938 - accuracy: 0.0037 - val_loss: 5.2823 - val_accuracy: 0.0071\n",
      "Epoch 10/15\n",
      "661/661 [==============================] - 222s 336ms/step - loss: 5.2936 - accuracy: 0.0027 - val_loss: 5.3057 - val_accuracy: 0.0054\n",
      "Epoch 11/15\n",
      "661/661 [==============================] - 235s 356ms/step - loss: 5.2936 - accuracy: 0.0035 - val_loss: 5.2880 - val_accuracy: 0.0062\n",
      "Epoch 12/15\n",
      "661/661 [==============================] - 227s 344ms/step - loss: 5.2937 - accuracy: 0.0029 - val_loss: 5.3145 - val_accuracy: 0.0054\n",
      "Epoch 13/15\n",
      "661/661 [==============================] - 225s 341ms/step - loss: 5.2936 - accuracy: 0.0024 - val_loss: 5.2894 - val_accuracy: 0.0036\n",
      "Epoch 14/15\n",
      "661/661 [==============================] - 223s 338ms/step - loss: 5.2937 - accuracy: 0.0027 - val_loss: 5.2771 - val_accuracy: 0.0054\n",
      "Epoch 15/15\n",
      "661/661 [==============================] - 225s 340ms/step - loss: 5.2936 - accuracy: 0.0027 - val_loss: 5.2793 - val_accuracy: 0.0045\n"
     ]
    }
   ],
   "source": [
    "steps_per_epoch = train_image_gen.n//train_image_gen.batch_size\n",
    "validation_steps = test_image_gen.n//test_image_gen.batch_size\n",
    "\n",
    "results = model.fit_generator(train_image_gen,\n",
    "                              epochs=15,\n",
    "                              steps_per_epoch=steps_per_epoch,\n",
    "                              validation_data=test_image_gen,\n",
    "                              validation_steps=validation_steps)"
   ]
  },
  {
   "cell_type": "code",
   "execution_count": 110,
   "metadata": {},
   "outputs": [],
   "source": [
    "predictions = model.predict_generator(test_image_gen,steps=validation_steps)"
   ]
  },
  {
   "cell_type": "code",
   "execution_count": 111,
   "metadata": {},
   "outputs": [
    {
     "data": {
      "image/png": "[encoded data removed]",
      "text/plain": [
       "<Figure size 432x288 with 1 Axes>"
      ]
     },
     "metadata": {
      "needs_background": "light"
     },
     "output_type": "display_data"
    }
   ],
   "source": [
    "plt.plot(results.history['accuracy'])\n",
    "plt.plot(results.history['val_accuracy'])\n",
    "plt.title('model accuracy')\n",
    "plt.ylabel('accuracy')\n",
    "plt.xlabel('epoch')\n",
    "plt.legend(['test', 'train'], loc='upper left')\n",
    "plt.savefig('Birds-Model-1 Epoch')\n",
    "plt.show()"
   ]
  },
  {
   "cell_type": "code",
   "execution_count": 112,
   "metadata": {},
   "outputs": [],
   "source": [
    "model.save('birds-1-epochs.h5')"
   ]
  },
  {
   "cell_type": "markdown",
   "metadata": {},
   "source": [
    "### For Testing Normal Model"
   ]
  },
  {
   "cell_type": "code",
   "execution_count": 21,
   "metadata": {},
   "outputs": [
    {
     "name": "stdout",
     "output_type": "stream",
     "text": [
      "WARNING:tensorflow:9 out of the last 9 calls to <function Model.make_predict_function.<locals>.predict_function at 0x000001A67F0214C8> triggered tf.function retracing. Tracing is expensive and the excessive number of tracings could be due to (1) creating @tf.function repeatedly in a loop, (2) passing tensors with different shapes, (3) passing Python objects instead of tensors. For (1), please define your @tf.function outside of the loop. For (2), @tf.function has experimental_relax_shapes=True option that relaxes argument shapes that can avoid unnecessary retracing. For (3), please refer to https://www.tensorflow.org/guide/function#controlling_retracing and https://www.tensorflow.org/api_docs/python/tf/function for  more details.\n",
      "Image has: 160.Black_throated_Blue_Warbler\n"
     ]
    }
   ],
   "source": [
    "from tensorflow.keras.preprocessing import image\n",
    "from tensorflow.keras.models import load_model\n",
    "import os\n",
    "os.environ['TF_CPP_MIN_LOG_LEVEL'] = '2'\n",
    "\n",
    "img = 'test-images/002.Laysan_Albatross/Laysan_Albatross_0034_628.jpg'\n",
    "img = image.load_img(img,target_size=(150,150))\n",
    "img = image.img_to_array(img)\n",
    "img = img/255\n",
    "\n",
    "model = load_model('models/birds-1-epochs.h5')\n",
    "prediction = model.predict(img.reshape(1,150,150,3))\n",
    "# print(prediction)\n",
    "print(\"Image has:\",fldrs[np.argmax(prediction)].split('\\\\')[1])"
   ]
  },
  {
   "cell_type": "markdown",
   "metadata": {},
   "source": [
    "### For Testing Teachable Machine Model"
   ]
  },
  {
   "cell_type": "code",
   "execution_count": 14,
   "metadata": {},
   "outputs": [
    {
     "name": "stdout",
     "output_type": "stream",
     "text": [
      "WARNING:tensorflow:No training configuration found in the save file, so the model was *not* compiled. Compile it manually.\n",
      "009.Brewer_Blackbird\n"
     ]
    }
   ],
   "source": [
    "import tensorflow.keras\n",
    "from PIL import Image, ImageOps\n",
    "import numpy as np\n",
    "\n",
    "\n",
    "# Load the model\n",
    "model = tensorflow.keras.models.load_model('models/TchMach_model.h5')\n",
    "\n",
    "data = np.ndarray(shape=(1, 224, 224, 3), dtype=np.float32)\n",
    "\n",
    "image = Image.open('C:\\\\Users\\\\vsneh\\\\Udemy-notebooks\\\\bird-species-detection\\\\test-images\\\\009.Brewer_Blackbird\\\\Brewer_Blackbird_0027_2329.jpg')\n",
    "\n",
    "size = (224, 224)\n",
    "image = ImageOps.fit(image, size, Image.ANTIALIAS)\n",
    "\n",
    "image_array = np.asarray(image)\n",
    "\n",
    "image.show()\n",
    "\n",
    "# Normalize the image\n",
    "normalized_image_array = (image_array.astype(np.float32) / 127.0) - 1\n",
    "\n",
    "data[0] = normalized_image_array\n",
    "\n",
    "prediction = model.predict(data)\n",
    "print(flds[np.argmax(prediction)])\n"
   ]
  },
  {
   "cell_type": "code",
   "execution_count": 12,
   "metadata": {},
   "outputs": [
    {
     "data": {
      "application/javascript": [
       "if (window.IPython && IPython.notebook.kernel) IPython.notebook.kernel.execute('jovian.utils.jupyter.get_notebook_name_saved = lambda: \"' + IPython.notebook.notebook_name + '\"')"
      ],
      "text/plain": [
       "<IPython.core.display.Javascript object>"
      ]
     },
     "metadata": {},
     "output_type": "display_data"
    },
    {
     "name": "stdout",
     "output_type": "stream",
     "text": [
      "[jovian] Update Available: 0.2.26 --> 0.2.29\n",
      "[jovian] Run `!pip install jovian --upgrade` to upgrade\n"
     ]
    }
   ],
   "source": [
    "import jovian\n"
   ]
  },
  {
   "cell_type": "code",
   "execution_count": 13,
   "metadata": {},
   "outputs": [
    {
     "data": {
      "application/javascript": [
       "window.require && require([\"base/js/namespace\"],function(Jupyter){Jupyter.notebook.save_checkpoint()})"
      ],
      "text/plain": [
       "<IPython.core.display.Javascript object>"
      ]
     },
     "metadata": {},
     "output_type": "display_data"
    },
    {
     "name": "stdout",
     "output_type": "stream",
     "text": [
      "[jovian] Attempting to save notebook..\n",
      "[jovian] Updating notebook \"v-snehith999/training-cnn\" on https://jovian.ml/\n",
      "[jovian] Uploading notebook..\n",
      "[jovian] Capturing environment..\n",
      "[jovian] Committed successfully! https://jovian.ml/v-snehith999/training-cnn\n"
     ]
    },
    {
     "data": {
      "text/plain": [
       "'https://jovian.ml/v-snehith999/training-cnn'"
      ]
     },
     "execution_count": 13,
     "metadata": {},
     "output_type": "execute_result"
    }
   ],
   "source": [
    "jovian.commit(environment='None')"
   ]
  },
  {
   "cell_type": "code",
   "execution_count": null,
   "metadata": {},
   "outputs": [],
   "source": []
  }
 ],
 "metadata": {
  "kernelspec": {
   "display_name": "Python 3",
   "language": "python",
   "name": "python3"
  },
  "language_info": {
   "codemirror_mode": {
    "name": "ipython",
    "version": 3
   },
   "file_extension": ".py",
   "mimetype": "text/x-python",
   "name": "python",
   "nbconvert_exporter": "python",
   "pygments_lexer": "ipython3",
   "version": "3.7.5"
  }
 },
 "nbformat": 4,
 "nbformat_minor": 2
}
